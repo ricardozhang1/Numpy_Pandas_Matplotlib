{
 "cells": [
  {
   "cell_type": "code",
   "execution_count": 2,
   "metadata": {},
   "outputs": [],
   "source": [
    "# Pandas有两个主要也是最重要的数据结构：Series和DataFame"
   ]
  },
  {
   "cell_type": "code",
   "execution_count": 3,
   "metadata": {},
   "outputs": [],
   "source": [
    "import pandas as pd"
   ]
  },
  {
   "cell_type": "markdown",
   "metadata": {},
   "source": [
    "### Series"
   ]
  },
  {
   "cell_type": "markdown",
   "metadata": {},
   "source": [
    "#### 1. 通过list构建Series"
   ]
  },
  {
   "cell_type": "code",
   "execution_count": 7,
   "metadata": {},
   "outputs": [
    {
     "name": "stdout",
     "output_type": "stream",
     "text": [
      "0    10\n",
      "1    11\n",
      "2    12\n",
      "dtype: int64\n",
      "0    10\n",
      "1    11\n",
      "2    12\n",
      "3    13\n",
      "4    14\n",
      "5    15\n",
      "6    16\n",
      "7    17\n",
      "8    18\n",
      "9    19\n",
      "dtype: int64\n",
      "<class 'pandas.core.series.Series'>\n"
     ]
    }
   ],
   "source": [
    "ser_obj = pd.Series(range(10, 20))\n",
    "print(ser_obj.head(3))\n",
    "\n",
    "print(ser_obj)\n",
    "\n",
    "print(type(ser_obj))"
   ]
  },
  {
   "cell_type": "markdown",
   "metadata": {},
   "source": [
    "#### 2. 获取数据和索引"
   ]
  },
  {
   "cell_type": "code",
   "execution_count": 8,
   "metadata": {},
   "outputs": [
    {
     "name": "stdout",
     "output_type": "stream",
     "text": [
      "[10 11 12 13 14 15 16 17 18 19]\n",
      "RangeIndex(start=0, stop=10, step=1)\n"
     ]
    }
   ],
   "source": [
    "# 获取数据\n",
    "print(ser_obj.values)\n",
    "\n",
    "# 获取索引\n",
    "print(ser_obj.index)"
   ]
  },
  {
   "cell_type": "markdown",
   "metadata": {},
   "source": [
    "#### 3. 通过索引获取数据"
   ]
  },
  {
   "cell_type": "code",
   "execution_count": 9,
   "metadata": {},
   "outputs": [
    {
     "name": "stdout",
     "output_type": "stream",
     "text": [
      "10\n",
      "18\n"
     ]
    }
   ],
   "source": [
    "print(ser_obj[0])\n",
    "\n",
    "print(ser_obj[8])"
   ]
  },
  {
   "cell_type": "markdown",
   "metadata": {},
   "source": [
    "#### 4. 索引与数据的对应关系不被运算结果影响"
   ]
  },
  {
   "cell_type": "code",
   "execution_count": 10,
   "metadata": {},
   "outputs": [
    {
     "name": "stdout",
     "output_type": "stream",
     "text": [
      "0    20\n",
      "1    22\n",
      "2    24\n",
      "3    26\n",
      "4    28\n",
      "5    30\n",
      "6    32\n",
      "7    34\n",
      "8    36\n",
      "9    38\n",
      "dtype: int64\n",
      "0    False\n",
      "1    False\n",
      "2    False\n",
      "3    False\n",
      "4    False\n",
      "5    False\n",
      "6     True\n",
      "7     True\n",
      "8     True\n",
      "9     True\n",
      "dtype: bool\n"
     ]
    }
   ],
   "source": [
    "print(ser_obj * 2)\n",
    "\n",
    "print(ser_obj > 15)"
   ]
  },
  {
   "cell_type": "markdown",
   "metadata": {},
   "source": [
    "#### 5. 通过dict构建Series"
   ]
  },
  {
   "cell_type": "code",
   "execution_count": 11,
   "metadata": {},
   "outputs": [
    {
     "name": "stdout",
     "output_type": "stream",
     "text": [
      "2001    17.8\n",
      "2002    20.1\n",
      "2003    16.5\n",
      "dtype: float64\n",
      "Int64Index([2001, 2002, 2003], dtype='int64')\n"
     ]
    }
   ],
   "source": [
    "year_data = {2001: 17.8, 2002: 20.1, 2003: 16.5}\n",
    "ser_obj2 = pd.Series(year_data)\n",
    "\n",
    "print(ser_obj2.head())\n",
    "\n",
    "print(ser_obj2.index)"
   ]
  },
  {
   "cell_type": "markdown",
   "metadata": {},
   "source": [
    "#### name属性"
   ]
  },
  {
   "cell_type": "code",
   "execution_count": 16,
   "metadata": {},
   "outputs": [
    {
     "name": "stdout",
     "output_type": "stream",
     "text": [
      "year\n",
      "2001    17.8\n",
      "2002    20.1\n",
      "2003    16.5\n",
      "Name: temp, dtype: float64\n"
     ]
    }
   ],
   "source": [
    "ser_obj2.name = 'temp'\n",
    "ser_obj2.index.name = 'year'\n",
    "print(ser_obj2.head())"
   ]
  },
  {
   "cell_type": "markdown",
   "metadata": {},
   "source": [
    "### DataFrame"
   ]
  },
  {
   "cell_type": "markdown",
   "metadata": {},
   "source": [
    "#### 1. 通过ndarray构建DataFrame"
   ]
  },
  {
   "cell_type": "code",
   "execution_count": 19,
   "metadata": {},
   "outputs": [],
   "source": [
    "import numpy as np"
   ]
  },
  {
   "cell_type": "code",
   "execution_count": 20,
   "metadata": {},
   "outputs": [
    {
     "name": "stdout",
     "output_type": "stream",
     "text": [
      "[[-0.97869668 -0.63668702 -0.71247899 -0.73857081]\n",
      " [-0.4971664  -0.38767146 -0.10778661  1.39391516]\n",
      " [ 1.27641069  0.31529898  1.71674759 -0.29316255]\n",
      " [-0.17057332 -1.04612857 -1.36819239  0.74509776]\n",
      " [-0.08002971  0.80512509  0.26630918 -1.19601822]]\n",
      "          0         1         2         3\n",
      "0 -0.978697 -0.636687 -0.712479 -0.738571\n",
      "1 -0.497166 -0.387671 -0.107787  1.393915\n",
      "2  1.276411  0.315299  1.716748 -0.293163\n",
      "3 -0.170573 -1.046129 -1.368192  0.745098\n",
      "4 -0.080030  0.805125  0.266309 -1.196018\n"
     ]
    }
   ],
   "source": [
    "array = np.random.randn(5, 4)\n",
    "print(array)\n",
    "\n",
    "df_obj = pd.DataFrame(array)\n",
    "print(df_obj.head())"
   ]
  },
  {
   "cell_type": "markdown",
   "metadata": {},
   "source": [
    "#### 2. 通过dict构建DataFame"
   ]
  },
  {
   "cell_type": "code",
   "execution_count": 21,
   "metadata": {},
   "outputs": [
    {
     "name": "stdout",
     "output_type": "stream",
     "text": [
      "   A          B    C  D       E       F\n",
      "0  1 2017-04-26  1.0  3  Python  ITCast\n",
      "1  1 2017-04-26  1.0  3    Java  ITCast\n",
      "2  1 2017-04-26  1.0  3     C++  ITCast\n",
      "3  1 2017-04-26  1.0  3       C  ITCast\n"
     ]
    }
   ],
   "source": [
    "dict_data = {'A': 1, \n",
    "             'B': pd.Timestamp('20170426'),\n",
    "             'C': pd.Series(1, index=list(range(4)),dtype='float32'),\n",
    "             'D': np.array([3] * 4,dtype='int32'),\n",
    "             'E': [\"Python\",\"Java\",\"C++\",\"C\"],\n",
    "             'F': 'ITCast' }\n",
    "\n",
    "df_obj2 = pd.DataFrame(dict_data)\n",
    "print(df_obj2)"
   ]
  },
  {
   "cell_type": "markdown",
   "metadata": {},
   "source": [
    "#### 3. 通过列索引获取列数据(Series)"
   ]
  },
  {
   "cell_type": "code",
   "execution_count": 24,
   "metadata": {},
   "outputs": [
    {
     "name": "stdout",
     "output_type": "stream",
     "text": [
      "0    1\n",
      "1    1\n",
      "2    1\n",
      "3    1\n",
      "Name: A, dtype: int64\n",
      "<class 'pandas.core.series.Series'>\n",
      "0    Python\n",
      "1      Java\n",
      "2       C++\n",
      "3         C\n",
      "Name: E, dtype: object\n"
     ]
    }
   ],
   "source": [
    "print(df_obj2['A'])\n",
    "\n",
    "print(type(df_obj2['A']))\n",
    "\n",
    "print(df_obj2.E)"
   ]
  },
  {
   "cell_type": "markdown",
   "metadata": {},
   "source": [
    "#### 4. 增加列数据"
   ]
  },
  {
   "cell_type": "code",
   "execution_count": 25,
   "metadata": {},
   "outputs": [
    {
     "name": "stdout",
     "output_type": "stream",
     "text": [
      "   A          B    C  D       E       F  G\n",
      "0  1 2017-04-26  1.0  3  Python  ITCast  7\n",
      "1  1 2017-04-26  1.0  3    Java  ITCast  7\n",
      "2  1 2017-04-26  1.0  3     C++  ITCast  7\n",
      "3  1 2017-04-26  1.0  3       C  ITCast  7\n"
     ]
    }
   ],
   "source": [
    "df_obj2['G'] = df_obj2['D'] + 4\n",
    "print(df_obj2.head())"
   ]
  },
  {
   "cell_type": "code",
   "execution_count": 26,
   "metadata": {},
   "outputs": [
    {
     "name": "stdout",
     "output_type": "stream",
     "text": [
      "   A          B    C  D       E       F  G  H\n",
      "0  1 2017-04-26  1.0  3  Python  ITCast  7  6\n",
      "1  1 2017-04-26  1.0  3    Java  ITCast  7  7\n",
      "2  1 2017-04-26  1.0  3     C++  ITCast  7  8\n",
      "3  1 2017-04-26  1.0  3       C  ITCast  7  9\n"
     ]
    }
   ],
   "source": [
    "df_obj2['H'] = pd.Series(range(4)) + 6\n",
    "print(df_obj2.head())"
   ]
  },
  {
   "cell_type": "markdown",
   "metadata": {},
   "source": [
    "#### 5. 删除列"
   ]
  },
  {
   "cell_type": "code",
   "execution_count": 28,
   "metadata": {},
   "outputs": [
    {
     "name": "stdout",
     "output_type": "stream",
     "text": [
      "   A          B    C  D       E       F\n",
      "0  1 2017-04-26  1.0  3  Python  ITCast\n",
      "1  1 2017-04-26  1.0  3    Java  ITCast\n",
      "2  1 2017-04-26  1.0  3     C++  ITCast\n",
      "3  1 2017-04-26  1.0  3       C  ITCast\n"
     ]
    }
   ],
   "source": [
    "del(df_obj2['G'])\n",
    "\n",
    "print(df_obj2.head())"
   ]
  },
  {
   "cell_type": "code",
   "execution_count": null,
   "metadata": {},
   "outputs": [],
   "source": []
  }
 ],
 "metadata": {
  "kernelspec": {
   "display_name": "Python 3",
   "language": "python",
   "name": "python3"
  },
  "language_info": {
   "codemirror_mode": {
    "name": "ipython",
    "version": 3
   },
   "file_extension": ".py",
   "mimetype": "text/x-python",
   "name": "python",
   "nbconvert_exporter": "python",
   "pygments_lexer": "ipython3",
   "version": "3.6.5"
  }
 },
 "nbformat": 4,
 "nbformat_minor": 2
}
