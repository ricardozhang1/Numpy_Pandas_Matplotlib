{
 "cells": [
  {
   "cell_type": "code",
   "execution_count": 1,
   "metadata": {},
   "outputs": [],
   "source": [
    "import numpy as np\n",
    "import pandas as pd"
   ]
  },
  {
   "cell_type": "code",
   "execution_count": 2,
   "metadata": {},
   "outputs": [
    {
     "name": "stdout",
     "output_type": "stream",
     "text": [
      "          a         b         c         d\n",
      "0  1.329580 -0.641278  0.486009 -0.909577\n",
      "1 -1.025627  1.628975  0.096838 -0.495381\n",
      "2 -0.899121 -1.103726 -0.112747  0.148918\n",
      "3 -2.154511  1.334756 -1.214524  0.821854\n",
      "4  1.101723  0.921329 -1.060398 -1.169861\n"
     ]
    }
   ],
   "source": [
    "df_obj = pd.DataFrame(np.random.randn(5,4), columns = ['a', 'b', 'c', 'd'])\n",
    "print(df_obj)"
   ]
  },
  {
   "cell_type": "markdown",
   "metadata": {},
   "source": [
    "### 常用的统计计算"
   ]
  },
  {
   "cell_type": "code",
   "execution_count": 5,
   "metadata": {},
   "outputs": [
    {
     "name": "stdout",
     "output_type": "stream",
     "text": [
      "a   -1.647956\n",
      "b    2.140056\n",
      "c   -1.804822\n",
      "d   -1.604047\n",
      "dtype: float64\n",
      "------------------------------\n",
      "a    1.329580\n",
      "b    1.628975\n",
      "c    0.486009\n",
      "d    0.821854\n",
      "dtype: float64\n",
      "------------------------------\n"
     ]
    },
    {
     "data": {
      "text/plain": [
       "0   -0.909577\n",
       "1   -1.025627\n",
       "2   -1.103726\n",
       "3   -2.154511\n",
       "4   -1.169861\n",
       "dtype: float64"
      ]
     },
     "execution_count": 5,
     "metadata": {},
     "output_type": "execute_result"
    }
   ],
   "source": [
    "# sum, mean, max, min…\n",
    "print(df_obj.sum())\n",
    "print('-' * 30)\n",
    "print(df_obj.max())\n",
    "print('-' * 30)\n",
    "df_obj.min(axis=1, skipna=False)"
   ]
  },
  {
   "cell_type": "markdown",
   "metadata": {},
   "source": [
    "### 常用的统计描述"
   ]
  },
  {
   "cell_type": "markdown",
   "metadata": {},
   "source": [
    "#### describe 产生多个统计数据"
   ]
  },
  {
   "cell_type": "code",
   "execution_count": 6,
   "metadata": {},
   "outputs": [
    {
     "name": "stdout",
     "output_type": "stream",
     "text": [
      "              a         b         c         d\n",
      "count  5.000000  5.000000  5.000000  5.000000\n",
      "mean  -0.329591  0.428011 -0.360964 -0.320809\n",
      "std    1.495048  1.224486  0.742686  0.809990\n",
      "min   -2.154511 -1.103726 -1.214524 -1.169861\n",
      "25%   -1.025627 -0.641278 -1.060398 -0.909577\n",
      "50%   -0.899121  0.921329 -0.112747 -0.495381\n",
      "75%    1.101723  1.334756  0.096838  0.148918\n",
      "max    1.329580  1.628975  0.486009  0.821854\n"
     ]
    }
   ],
   "source": [
    "print(df_obj.describe())"
   ]
  },
  {
   "cell_type": "code",
   "execution_count": null,
   "metadata": {},
   "outputs": [],
   "source": []
  }
 ],
 "metadata": {
  "kernelspec": {
   "display_name": "Python 3",
   "language": "python",
   "name": "python3"
  },
  "language_info": {
   "codemirror_mode": {
    "name": "ipython",
    "version": 3
   },
   "file_extension": ".py",
   "mimetype": "text/x-python",
   "name": "python",
   "nbconvert_exporter": "python",
   "pygments_lexer": "ipython3",
   "version": "3.6.5"
  }
 },
 "nbformat": 4,
 "nbformat_minor": 2
}
