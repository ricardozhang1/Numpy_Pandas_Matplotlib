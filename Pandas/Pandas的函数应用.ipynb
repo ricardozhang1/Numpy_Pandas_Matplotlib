{
 "cells": [
  {
   "cell_type": "markdown",
   "metadata": {},
   "source": [
    "### apply 和 applymap"
   ]
  },
  {
   "cell_type": "markdown",
   "metadata": {},
   "source": [
    "#### 1. 可直接使用Numpy的函数"
   ]
  },
  {
   "cell_type": "code",
   "execution_count": 1,
   "metadata": {},
   "outputs": [],
   "source": [
    "import numpy as np\n",
    "import pandas as pd"
   ]
  },
  {
   "cell_type": "code",
   "execution_count": 2,
   "metadata": {},
   "outputs": [
    {
     "name": "stdout",
     "output_type": "stream",
     "text": [
      "          0         1         2         3\n",
      "0  1.207270 -1.107191 -0.523128  0.523667\n",
      "1 -1.211874 -2.424170 -0.656185 -0.108821\n",
      "2 -1.515303 -2.061224 -1.399393 -0.426654\n",
      "3 -0.313853 -2.266272 -0.728485 -2.778090\n",
      "4 -2.677651 -0.217101  1.038653 -2.277234\n",
      "          0         1         2         3\n",
      "0  1.207270  1.107191  0.523128  0.523667\n",
      "1  1.211874  2.424170  0.656185  0.108821\n",
      "2  1.515303  2.061224  1.399393  0.426654\n",
      "3  0.313853  2.266272  0.728485  2.778090\n",
      "4  2.677651  0.217101  1.038653  2.277234\n"
     ]
    }
   ],
   "source": [
    "# Numpy ufunc 函数\n",
    "df = pd.DataFrame(np.random.randn(5,4) - 1)\n",
    "\n",
    "print(df)\n",
    "\n",
    "print(np.abs(df))"
   ]
  },
  {
   "cell_type": "markdown",
   "metadata": {},
   "source": [
    "#### 2. 通过apply将函数应用到列或行上"
   ]
  },
  {
   "cell_type": "code",
   "execution_count": 3,
   "metadata": {},
   "outputs": [
    {
     "name": "stdout",
     "output_type": "stream",
     "text": [
      "0    1.207270\n",
      "1   -0.217101\n",
      "2    1.038653\n",
      "3    0.523667\n",
      "dtype: float64\n"
     ]
    }
   ],
   "source": [
    "print(df.apply(lambda x: x.max()))"
   ]
  },
  {
   "cell_type": "code",
   "execution_count": 4,
   "metadata": {},
   "outputs": [
    {
     "name": "stdout",
     "output_type": "stream",
     "text": [
      "0    1.207270\n",
      "1   -0.108821\n",
      "2   -0.426654\n",
      "3   -0.313853\n",
      "4    1.038653\n",
      "dtype: float64\n"
     ]
    }
   ],
   "source": [
    "print(df.apply(lambda x: x.max(), axis=1))"
   ]
  },
  {
   "cell_type": "markdown",
   "metadata": {},
   "source": [
    "#### 3. 通过applymap将函数应用到每个数据上"
   ]
  },
  {
   "cell_type": "code",
   "execution_count": 5,
   "metadata": {},
   "outputs": [
    {
     "name": "stdout",
     "output_type": "stream",
     "text": [
      "       0      1      2      3\n",
      "0   1.21  -1.11  -0.52   0.52\n",
      "1  -1.21  -2.42  -0.66  -0.11\n",
      "2  -1.52  -2.06  -1.40  -0.43\n",
      "3  -0.31  -2.27  -0.73  -2.78\n",
      "4  -2.68  -0.22   1.04  -2.28\n"
     ]
    }
   ],
   "source": [
    "f2 = lambda x : \"%.2f\" %x\n",
    "print(df.applymap(f2))"
   ]
  },
  {
   "cell_type": "markdown",
   "metadata": {},
   "source": [
    "### 排序"
   ]
  },
  {
   "cell_type": "markdown",
   "metadata": {},
   "source": [
    "#### 1. 索引排序"
   ]
  },
  {
   "cell_type": "code",
   "execution_count": 6,
   "metadata": {},
   "outputs": [],
   "source": [
    "# sort_index()\n",
    "# 排序默认使用升序排序， ascending=False为降序排列"
   ]
  },
  {
   "cell_type": "code",
   "execution_count": 8,
   "metadata": {},
   "outputs": [
    {
     "name": "stdout",
     "output_type": "stream",
     "text": [
      "s4: \n",
      " 1    10\n",
      "0    11\n",
      "1    12\n",
      "3    13\n",
      "4    14\n",
      "dtype: int64\n"
     ]
    }
   ],
   "source": [
    "s4 = pd.Series(range(10, 15), index=np.random.randint(5, size=5))\n",
    "print(\"s4: \\n\", s4)"
   ]
  },
  {
   "cell_type": "code",
   "execution_count": 9,
   "metadata": {},
   "outputs": [
    {
     "data": {
      "text/plain": [
       "0    11\n",
       "1    10\n",
       "1    12\n",
       "3    13\n",
       "4    14\n",
       "dtype: int64"
      ]
     },
     "execution_count": 9,
     "metadata": {},
     "output_type": "execute_result"
    }
   ],
   "source": [
    "# 索引排序\n",
    "s4.sort_index()"
   ]
  },
  {
   "cell_type": "code",
   "execution_count": 10,
   "metadata": {},
   "outputs": [
    {
     "name": "stdout",
     "output_type": "stream",
     "text": [
      "          1         3         0         4         0\n",
      "0 -1.578973  1.876969  0.528007  0.212646 -0.800617\n",
      "2 -0.444042 -1.211058 -0.330680 -1.350462  0.163926\n",
      "0 -1.029338  0.353062 -0.259603 -0.284637 -0.872490\n",
      "          3         2         1         0\n",
      "0  0.523667 -0.523128 -1.107191  1.207270\n",
      "1 -0.108821 -0.656185 -2.424170 -1.211874\n",
      "2 -0.426654 -1.399393 -2.061224 -1.515303\n",
      "3 -2.778090 -0.728485 -2.266272 -0.313853\n",
      "4 -2.277234  1.038653 -0.217101 -2.677651\n"
     ]
    }
   ],
   "source": [
    "# DataFrame\n",
    "df4 = pd.DataFrame(np.random.randn(3,5),\n",
    "                  index=np.random.randint(3, size=3),\n",
    "                  columns=np.random.randint(5, size=5))\n",
    "\n",
    "print(df4)\n",
    "\n",
    "df4_isort = df.sort_index(axis=1, ascending=False)\n",
    "print(df4_isort)"
   ]
  },
  {
   "cell_type": "markdown",
   "metadata": {},
   "source": [
    "#### 2. 按值排序"
   ]
  },
  {
   "cell_type": "code",
   "execution_count": 11,
   "metadata": {},
   "outputs": [],
   "source": [
    "# sort_value(by=\"column name\")\n",
    "# 根据某个唯一的列名进行排序，如果有其他相同列名则报错"
   ]
  },
  {
   "cell_type": "code",
   "execution_count": 13,
   "metadata": {},
   "outputs": [
    {
     "name": "stdout",
     "output_type": "stream",
     "text": [
      "          1         3         0         4         0\n",
      "2 -0.444042 -1.211058 -0.330680 -1.350462  0.163926\n",
      "0 -1.029338  0.353062 -0.259603 -0.284637 -0.872490\n",
      "0 -1.578973  1.876969  0.528007  0.212646 -0.800617\n"
     ]
    }
   ],
   "source": [
    "df4_vsort = df4.sort_values(by=1, ascending=False)\n",
    "print(df4_vsort)"
   ]
  },
  {
   "cell_type": "markdown",
   "metadata": {},
   "source": [
    "### 处理缺失数据"
   ]
  },
  {
   "cell_type": "code",
   "execution_count": 14,
   "metadata": {},
   "outputs": [
    {
     "name": "stdout",
     "output_type": "stream",
     "text": [
      "      0         1         2\n",
      "0 -0.07  2.136348 -0.325308\n",
      "1  1.00  2.000000       NaN\n",
      "2   NaN  4.000000       NaN\n",
      "3  1.00  2.000000  3.000000\n"
     ]
    }
   ],
   "source": [
    "df_data = pd.DataFrame([np.random.randn(3), [1.,2.,np.nan],\n",
    "                       [np.nan,4.,np.nan], [1.,2.,3]])\n",
    "print(df_data.head())"
   ]
  },
  {
   "cell_type": "markdown",
   "metadata": {},
   "source": [
    "#### 1. 判断是否存在缺失值：isnull()"
   ]
  },
  {
   "cell_type": "code",
   "execution_count": 15,
   "metadata": {},
   "outputs": [
    {
     "name": "stdout",
     "output_type": "stream",
     "text": [
      "       0      1      2\n",
      "0  False  False  False\n",
      "1  False  False   True\n",
      "2   True  False   True\n",
      "3  False  False  False\n"
     ]
    }
   ],
   "source": [
    "print(df_data.isnull())"
   ]
  },
  {
   "cell_type": "markdown",
   "metadata": {},
   "source": [
    "#### 2. 丢弃缺失数据：dropna()"
   ]
  },
  {
   "cell_type": "code",
   "execution_count": 17,
   "metadata": {},
   "outputs": [
    {
     "name": "stdout",
     "output_type": "stream",
     "text": [
      "      0         1         2\n",
      "0 -0.07  2.136348 -0.325308\n",
      "3  1.00  2.000000  3.000000\n",
      "          1\n",
      "0  2.136348\n",
      "1  2.000000\n",
      "2  4.000000\n",
      "3  2.000000\n"
     ]
    }
   ],
   "source": [
    "print(df_data.dropna())\n",
    "\n",
    "print(df_data.dropna(axis=1))"
   ]
  },
  {
   "cell_type": "markdown",
   "metadata": {},
   "source": [
    "#### 3. 填充缺失值:fillna()"
   ]
  },
  {
   "cell_type": "code",
   "execution_count": 18,
   "metadata": {},
   "outputs": [
    {
     "name": "stdout",
     "output_type": "stream",
     "text": [
      "        0         1           2\n",
      "0   -0.07  2.136348   -0.325308\n",
      "1    1.00  2.000000 -100.000000\n",
      "2 -100.00  4.000000 -100.000000\n",
      "3    1.00  2.000000    3.000000\n"
     ]
    }
   ],
   "source": [
    "print(df_data.fillna(-100.0))"
   ]
  },
  {
   "cell_type": "code",
   "execution_count": null,
   "metadata": {},
   "outputs": [],
   "source": []
  }
 ],
 "metadata": {
  "kernelspec": {
   "display_name": "Python 3",
   "language": "python",
   "name": "python3"
  },
  "language_info": {
   "codemirror_mode": {
    "name": "ipython",
    "version": 3
   },
   "file_extension": ".py",
   "mimetype": "text/x-python",
   "name": "python",
   "nbconvert_exporter": "python",
   "pygments_lexer": "ipython3",
   "version": "3.6.5"
  }
 },
 "nbformat": 4,
 "nbformat_minor": 2
}
