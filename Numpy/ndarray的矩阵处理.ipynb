{
 "cells": [
  {
   "cell_type": "markdown",
   "metadata": {},
   "source": [
    "### ndarray的矩阵运算"
   ]
  },
  {
   "cell_type": "markdown",
   "metadata": {},
   "source": [
    "#### 数组是编程的概念，矩阵、矢量是数学概念"
   ]
  },
  {
   "cell_type": "code",
   "execution_count": 1,
   "metadata": {},
   "outputs": [],
   "source": [
    "# 在计算机编程中，矩阵可以用数组形式定义，矢量可以用结构定义"
   ]
  },
  {
   "cell_type": "markdown",
   "metadata": {},
   "source": [
    "#### 1. 矢量运算：相同大小的数组间运算应用在元素上"
   ]
  },
  {
   "cell_type": "code",
   "execution_count": 1,
   "metadata": {},
   "outputs": [],
   "source": [
    "import numpy as np"
   ]
  },
  {
   "cell_type": "code",
   "execution_count": 2,
   "metadata": {},
   "outputs": [
    {
     "name": "stdout",
     "output_type": "stream",
     "text": [
      "元素相乘：\n",
      " [[ 1  4  9]\n",
      " [16 25 36]]\n"
     ]
    }
   ],
   "source": [
    "# 矢量与矢量运算\n",
    "arr = np.array([[1, 2, 3], \n",
    "                        [4, 5, 6]])\n",
    "\n",
    "print(\"元素相乘：\\n\", arr * arr)      # 对应元素相乘"
   ]
  },
  {
   "cell_type": "code",
   "execution_count": 3,
   "metadata": {},
   "outputs": [
    {
     "name": "stdout",
     "output_type": "stream",
     "text": [
      "矩阵相加：\n",
      " [[ 2  4  6]\n",
      " [ 8 10 12]]\n"
     ]
    }
   ],
   "source": [
    "print(\"矩阵相加：\\n\", arr + arr)      # 对应元素相加"
   ]
  },
  {
   "cell_type": "markdown",
   "metadata": {},
   "source": [
    "#### 2. 矢量和标量运算:“广播”-将标量“广播”到各个元素"
   ]
  },
  {
   "cell_type": "code",
   "execution_count": 4,
   "metadata": {},
   "outputs": [
    {
     "name": "stdout",
     "output_type": "stream",
     "text": [
      "[[1.         0.5        0.33333333]\n",
      " [0.25       0.2        0.16666667]]\n",
      "--------------------------\n",
      "[[ 2  4  6]\n",
      " [ 8 10 12]]\n",
      "-----------\n",
      "[[2 3 4]\n",
      " [5 6 7]]\n"
     ]
    }
   ],
   "source": [
    "print(1. / arr)\n",
    "print('--------------------------')\n",
    "print(2 * arr)\n",
    "print('-----------')\n",
    "print(1 + arr)"
   ]
  },
  {
   "cell_type": "markdown",
   "metadata": {},
   "source": [
    "### ndarray 的索引与切片"
   ]
  },
  {
   "cell_type": "markdown",
   "metadata": {},
   "source": [
    "#### 1. 一维数组的索引与切片"
   ]
  },
  {
   "cell_type": "code",
   "execution_count": 5,
   "metadata": {},
   "outputs": [
    {
     "name": "stdout",
     "output_type": "stream",
     "text": [
      "[0 1 2 3 4 5 6 7 8 9]\n",
      "[2 3 4]\n"
     ]
    }
   ],
   "source": [
    "# 一维数组\n",
    "arr1 = np.arange(10)\n",
    "print(arr1)\n",
    "print(arr1[2: 5])"
   ]
  },
  {
   "cell_type": "code",
   "execution_count": 6,
   "metadata": {},
   "outputs": [
    {
     "name": "stdout",
     "output_type": "stream",
     "text": [
      "[[ 0  1  2  3]\n",
      " [ 4  5  6  7]\n",
      " [ 8  9 10 11]]\n"
     ]
    }
   ],
   "source": [
    "# 多维数组\n",
    "arr2 = np.arange(12).reshape(3, 4)\n",
    "print(arr2)"
   ]
  },
  {
   "cell_type": "code",
   "execution_count": 7,
   "metadata": {},
   "outputs": [
    {
     "name": "stdout",
     "output_type": "stream",
     "text": [
      "[4 5 6 7]\n",
      "---------------------\n",
      "[[2 3]\n",
      " [6 7]]\n",
      "---------------------\n",
      "[[ 1  2]\n",
      " [ 5  6]\n",
      " [ 9 10]]\n"
     ]
    }
   ],
   "source": [
    "print(arr2[1])\n",
    "print('---------------------')\n",
    "print(arr2[:2, 2:])\n",
    "print('---------------------')\n",
    "print(arr2[:, 1:3])"
   ]
  },
  {
   "cell_type": "markdown",
   "metadata": {},
   "source": [
    "#### 3. 条件索引"
   ]
  },
  {
   "cell_type": "code",
   "execution_count": 8,
   "metadata": {},
   "outputs": [
    {
     "name": "stdout",
     "output_type": "stream",
     "text": [
      "[[0.86040983 0.44288625 0.04603144]\n",
      " [0.28423628 0.8522316  0.96169743]\n",
      " [0.09042964 0.56111426 0.04439945]]\n"
     ]
    }
   ],
   "source": [
    "# 找出data_arr 中2005年后的数据\n",
    "data_arr = np.random.rand(3, 3)\n",
    "print(data_arr)"
   ]
  },
  {
   "cell_type": "code",
   "execution_count": 9,
   "metadata": {},
   "outputs": [
    {
     "name": "stdout",
     "output_type": "stream",
     "text": [
      "[[False False False]\n",
      " [ True False  True]\n",
      " [False False  True]] <class 'numpy.ndarray'>\n"
     ]
    }
   ],
   "source": [
    "year_arr = np.array([[2000, 2001, 2000], \n",
    "                                 [2005, 2002, 2009], \n",
    "                                 [2001, 2003, 2010]])\n",
    "is_year_after_2005 = year_arr >= 2005\n",
    "print(is_year_after_2005, type(is_year_after_2005))"
   ]
  },
  {
   "cell_type": "code",
   "execution_count": 10,
   "metadata": {},
   "outputs": [
    {
     "name": "stdout",
     "output_type": "stream",
     "text": [
      "[0.28423628 0.96169743 0.04439945]\n"
     ]
    }
   ],
   "source": [
    "filtered_arr = data_arr[is_year_after_2005]\n",
    "print(filtered_arr)"
   ]
  },
  {
   "cell_type": "code",
   "execution_count": 11,
   "metadata": {},
   "outputs": [],
   "source": [
    "# filtered_arr = data_arr[year_arr >= 2005]\n",
    "# print(filtered_arr)"
   ]
  },
  {
   "cell_type": "code",
   "execution_count": 12,
   "metadata": {},
   "outputs": [
    {
     "name": "stdout",
     "output_type": "stream",
     "text": [
      "[0.86040983 0.44288625 0.04603144 0.28423628 0.8522316  0.09042964\n",
      " 0.56111426 0.04439945]\n"
     ]
    }
   ],
   "source": [
    "# 多个条件\n",
    "filtered_arr = data_arr[(year_arr <= 2005) | (year_arr % 2 == 0)]\n",
    "print(filtered_arr)"
   ]
  },
  {
   "cell_type": "markdown",
   "metadata": {},
   "source": [
    "#### ndarray的为数转换"
   ]
  },
  {
   "cell_type": "code",
   "execution_count": 13,
   "metadata": {},
   "outputs": [],
   "source": [
    "# 二维数组直接使用转换函数：transpose()\n",
    "# 高维数组转换要指定维度编号(索引)参数 (0, 1, 2, …)，注意参数是元组"
   ]
  },
  {
   "cell_type": "code",
   "execution_count": 21,
   "metadata": {},
   "outputs": [
    {
     "name": "stdout",
     "output_type": "stream",
     "text": [
      "[[0.63781886 0.13057821 0.27157378]\n",
      " [0.32633258 0.37797754 0.23570454]]\n",
      "----------------------------------------\n",
      "[[0.63781886 0.32633258]\n",
      " [0.13057821 0.37797754]\n",
      " [0.27157378 0.23570454]]\n"
     ]
    }
   ],
   "source": [
    "arr = np.random.rand(2, 3)      # 2x3 的数组\n",
    "print(arr)\n",
    "print('-' * 40)\n",
    "print(arr.transpose())                # 转换成3x2 的数组"
   ]
  },
  {
   "cell_type": "code",
   "execution_count": 19,
   "metadata": {},
   "outputs": [
    {
     "name": "stdout",
     "output_type": "stream",
     "text": [
      "[[[0.0697927  0.33672676 0.91155314 0.19607717]\n",
      "  [0.59057105 0.58386236 0.32783447 0.06159591]\n",
      "  [0.65199752 0.4770871  0.71692946 0.98575889]]\n",
      "\n",
      " [[0.43270253 0.02888324 0.58066607 0.52176731]\n",
      "  [0.86128975 0.68478374 0.90302592 0.08555191]\n",
      "  [0.46778206 0.83382165 0.65792146 0.97548202]]]\n",
      "-----------------------------------------------------------\n",
      "[[[0.0697927  0.33672676 0.91155314 0.19607717]\n",
      "  [0.43270253 0.02888324 0.58066607 0.52176731]]\n",
      "\n",
      " [[0.59057105 0.58386236 0.32783447 0.06159591]\n",
      "  [0.86128975 0.68478374 0.90302592 0.08555191]]\n",
      "\n",
      " [[0.65199752 0.4770871  0.71692946 0.98575889]\n",
      "  [0.46778206 0.83382165 0.65792146 0.97548202]]]\n"
     ]
    }
   ],
   "source": [
    "arr3d = np.random.rand(2, 3, 4)      # 2x3x4 数组，2对应0，3对应1，4对应3\n",
    "print(arr3d)\n",
    "print('-' * 59)\n",
    "print(arr3d.transpose(1, 0, 2))           # 根据维度编号，转为为 3x2x4 数组"
   ]
  },
  {
   "cell_type": "code",
   "execution_count": null,
   "metadata": {},
   "outputs": [],
   "source": []
  },
  {
   "cell_type": "code",
   "execution_count": null,
   "metadata": {},
   "outputs": [],
   "source": []
  }
 ],
 "metadata": {
  "kernelspec": {
   "display_name": "Python 3",
   "language": "python",
   "name": "python3"
  },
  "language_info": {
   "codemirror_mode": {
    "name": "ipython",
    "version": 3
   },
   "file_extension": ".py",
   "mimetype": "text/x-python",
   "name": "python",
   "nbconvert_exporter": "python",
   "pygments_lexer": "ipython3",
   "version": "3.6.5"
  }
 },
 "nbformat": 4,
 "nbformat_minor": 2
}
