{
 "cells": [
  {
   "cell_type": "markdown",
   "metadata": {},
   "source": [
    "#### N Dimension Array 多维数组"
   ]
  },
  {
   "cell_type": "code",
   "execution_count": 1,
   "metadata": {},
   "outputs": [],
   "source": [
    "# 导入Numpy\n",
    "import numpy as np"
   ]
  },
  {
   "cell_type": "code",
   "execution_count": 77,
   "metadata": {},
   "outputs": [
    {
     "name": "stdout",
     "output_type": "stream",
     "text": [
      "[[0.08923921 0.18521729 0.78283158 0.53777477]\n",
      " [0.86864044 0.67196051 0.09701109 0.77009173]\n",
      " [0.54557921 0.3668708  0.8729727  0.35316623]] <class 'numpy.ndarray'>\n"
     ]
    }
   ],
   "source": [
    "# 生成指定维度大小（3x4）的随机浮点型数据（二维），rand固定区间（0.0，1.0）\n",
    "arr_rand = np.random.rand(3, 4)\n",
    "print(arr_rand, type(arr_rand))"
   ]
  },
  {
   "cell_type": "code",
   "execution_count": 41,
   "metadata": {},
   "outputs": [
    {
     "name": "stdout",
     "output_type": "stream",
     "text": [
      "[[-1  4 -1  4]\n",
      " [ 2 -1 -1  0]\n",
      " [ 1 -1 -1 -1]] <class 'numpy.ndarray'>\n"
     ]
    }
   ],
   "source": [
    "# 生成指定维度大小（3x4）的随机多维整型数据（二维），randint可以指定区间（-1，5）\n",
    "arr_randint = np.random.randint(-1, 5, size=(3, 4))\n",
    "print(arr_randint, type(arr_randint))"
   ]
  },
  {
   "cell_type": "code",
   "execution_count": 39,
   "metadata": {},
   "outputs": [
    {
     "name": "stdout",
     "output_type": "stream",
     "text": [
      "[[-0.22502354  2.63916325  3.3540959   0.92181071]\n",
      " [ 2.8315129   1.82710568 -0.11167255  1.06732451]\n",
      " [ 0.21337963  3.46503092  1.35692312  1.59073243]] <class 'numpy.ndarray'>\n"
     ]
    }
   ],
   "source": [
    "# 生成指定维数大小（3x4）的随机多维浮点数数据（二维），uniform可以指定区间（-1，5）\n",
    "arr_uniform = np.random.uniform(-1, 5, size=(3, 4))\n",
    "print(arr_uniform, type(arr_uniform))"
   ]
  },
  {
   "cell_type": "code",
   "execution_count": 42,
   "metadata": {},
   "outputs": [
    {
     "name": "stdout",
     "output_type": "stream",
     "text": [
      "维度个数 2\n",
      "维度大小 (3, 4)\n",
      "数据类型 int32\n"
     ]
    }
   ],
   "source": [
    "print('维度个数', arr_randint.ndim)\n",
    "print('维度大小', arr_randint.shape)\n",
    "print('数据类型', arr_randint.dtype)"
   ]
  },
  {
   "cell_type": "markdown",
   "metadata": {},
   "source": [
    "#### ndarray 的序列创建"
   ]
  },
  {
   "cell_type": "markdown",
   "metadata": {},
   "source": [
    "#### 1. np.array(collection)"
   ]
  },
  {
   "cell_type": "code",
   "execution_count": 72,
   "metadata": {},
   "outputs": [],
   "source": [
    "# collection 为 序列型对象(list)、嵌套序列对象(list of list)。"
   ]
  },
  {
   "cell_type": "code",
   "execution_count": 11,
   "metadata": {},
   "outputs": [
    {
     "name": "stdout",
     "output_type": "stream",
     "text": [
      "[0 1 2 3 4 5 6 7 8 9]\n",
      "1\n",
      "(10,)\n"
     ]
    }
   ],
   "source": [
    "# list序列转换为ndarray\n",
    "lis = range(10)\n",
    "arr = np.array(lis)\n",
    "\n",
    "print(arr)              # ndarray数据\n",
    "print(arr.ndim)     # 维度个数\n",
    "print(arr.shape)    # 维度大小"
   ]
  },
  {
   "cell_type": "code",
   "execution_count": 45,
   "metadata": {},
   "outputs": [
    {
     "name": "stdout",
     "output_type": "stream",
     "text": [
      "[[0 1 2 3 4 5 6 7 8 9]\n",
      " [0 1 2 3 4 5 6 7 8 9]]\n",
      "2\n",
      "(2, 10)\n"
     ]
    }
   ],
   "source": [
    "# list to list 嵌套序列转换为ndarray\n",
    "lis_lis = [range(10), range(10)]\n",
    "arr = np.array(lis_lis)\n",
    "\n",
    "print(arr)              # ndarray数据\n",
    "print(arr.ndim)     # 维度个数\n",
    "print(arr.shape)    # 维度大小"
   ]
  },
  {
   "cell_type": "markdown",
   "metadata": {},
   "source": [
    "#### 2. np.zeros()"
   ]
  },
  {
   "cell_type": "code",
   "execution_count": 50,
   "metadata": {
    "scrolled": true
   },
   "outputs": [
    {
     "name": "stdout",
     "output_type": "stream",
     "text": [
      "[[0. 0. 0. 0.]\n",
      " [0. 0. 0. 0.]\n",
      " [0. 0. 0. 0.]]\n",
      "2\n"
     ]
    }
   ],
   "source": [
    "arr_zeros = np.zeros((3,4))\n",
    "print(arr_zeros)\n",
    "print(arr_zeros.ndim)"
   ]
  },
  {
   "cell_type": "markdown",
   "metadata": {},
   "source": [
    "#### 3. np.zeros()"
   ]
  },
  {
   "cell_type": "code",
   "execution_count": 53,
   "metadata": {},
   "outputs": [
    {
     "name": "stdout",
     "output_type": "stream",
     "text": [
      "[[1. 1. 1. 1.]\n",
      " [1. 1. 1. 1.]\n",
      " [1. 1. 1. 1.]]\n"
     ]
    }
   ],
   "source": [
    "arr_ones = np.ones((3,4))\n",
    "print(arr_ones)"
   ]
  },
  {
   "cell_type": "markdown",
   "metadata": {},
   "source": [
    "#### 4. empty()"
   ]
  },
  {
   "cell_type": "code",
   "execution_count": 55,
   "metadata": {},
   "outputs": [
    {
     "name": "stdout",
     "output_type": "stream",
     "text": [
      "[[ 1  2  2  1]\n",
      " [-1  2  0  1]\n",
      " [ 0  3  0 -1]]\n"
     ]
    }
   ],
   "source": [
    "arr_empty = np.empty((3, 4), int)\n",
    "print(arr_empty)"
   ]
  },
  {
   "cell_type": "markdown",
   "metadata": {},
   "source": [
    "#### 5. np.arange() 和 reshape()"
   ]
  },
  {
   "cell_type": "code",
   "execution_count": 57,
   "metadata": {},
   "outputs": [
    {
     "name": "stdout",
     "output_type": "stream",
     "text": [
      "[ 0  1  2  3  4  5  6  7  8  9 10 11 12 13 14] <class 'numpy.ndarray'>\n"
     ]
    }
   ],
   "source": [
    "# np.arange()\n",
    "arr = np.arange(15)     # 15个元素的一维数组\n",
    "\n",
    "print(arr, type(arr))"
   ]
  },
  {
   "cell_type": "code",
   "execution_count": 58,
   "metadata": {},
   "outputs": [
    {
     "name": "stdout",
     "output_type": "stream",
     "text": [
      "[[ 0  1  2  3  4]\n",
      " [ 5  6  7  8  9]\n",
      " [10 11 12 13 14]]\n"
     ]
    }
   ],
   "source": [
    "print(arr.reshape(3, 5))    # 3x5个元素的二维数组"
   ]
  },
  {
   "cell_type": "code",
   "execution_count": 61,
   "metadata": {},
   "outputs": [
    {
     "name": "stdout",
     "output_type": "stream",
     "text": [
      "[[[ 0  1  2  3  4]\n",
      "  [ 5  6  7  8  9]\n",
      "  [10 11 12 13 14]]]\n"
     ]
    }
   ],
   "source": [
    "print(arr.reshape(1, 3, 5))    # 1x3x5个元素的三维数组"
   ]
  },
  {
   "cell_type": "markdown",
   "metadata": {},
   "source": [
    "   #### 6. np.arrange() 和 random.shuffle()"
   ]
  },
  {
   "cell_type": "code",
   "execution_count": 62,
   "metadata": {},
   "outputs": [],
   "source": [
    "# randdom.shuffle() 将打乱数组序列（类似于洗牌）"
   ]
  },
  {
   "cell_type": "code",
   "execution_count": 64,
   "metadata": {},
   "outputs": [
    {
     "name": "stdout",
     "output_type": "stream",
     "text": [
      "[ 0  1  2  3  4  5  6  7  8  9 10 11 12 13 14]\n"
     ]
    }
   ],
   "source": [
    "arr = np.arange(15)\n",
    "print(arr)"
   ]
  },
  {
   "cell_type": "code",
   "execution_count": 65,
   "metadata": {},
   "outputs": [],
   "source": [
    "np.random.shuffle(arr)"
   ]
  },
  {
   "cell_type": "code",
   "execution_count": 67,
   "metadata": {},
   "outputs": [
    {
     "name": "stdout",
     "output_type": "stream",
     "text": [
      "[[10  3  1  9  7]\n",
      " [ 8 13  2  4 11]\n",
      " [ 0  6  5 12 14]]\n"
     ]
    }
   ],
   "source": [
    "print(arr.reshape(3,5))"
   ]
  },
  {
   "cell_type": "markdown",
   "metadata": {},
   "source": [
    "### ndarray的数据类型"
   ]
  },
  {
   "cell_type": "code",
   "execution_count": 68,
   "metadata": {},
   "outputs": [],
   "source": [
    "# 1. dtype参数：指定数据组类型，类型名+位数，如float64，int32"
   ]
  },
  {
   "cell_type": "code",
   "execution_count": 69,
   "metadata": {},
   "outputs": [],
   "source": [
    "# 2. astype方法：转换数据类型"
   ]
  },
  {
   "cell_type": "code",
   "execution_count": 70,
   "metadata": {},
   "outputs": [
    {
     "name": "stdout",
     "output_type": "stream",
     "text": [
      "[[0. 0. 0. 0.]\n",
      " [0. 0. 0. 0.]\n",
      " [0. 0. 0. 0.]]\n",
      "float64\n"
     ]
    }
   ],
   "source": [
    "# 初始化3行4列数组，数据类型为float64\n",
    "zeros_float_arr = np.zeros((3, 4), dtype=np.float64)\n",
    "print(zeros_float_arr)\n",
    "print(zeros_float_arr.dtype)"
   ]
  },
  {
   "cell_type": "code",
   "execution_count": 71,
   "metadata": {},
   "outputs": [
    {
     "name": "stdout",
     "output_type": "stream",
     "text": [
      "[[0 0 0 0]\n",
      " [0 0 0 0]\n",
      " [0 0 0 0]]\n",
      "int32\n"
     ]
    }
   ],
   "source": [
    "# astype转换数据类型，将已有的数组的数据类型转换为int32\n",
    "zeros_int_arr = zeros_float_arr.astype(np.int32)\n",
    "print(zeros_int_arr)\n",
    "print(zeros_int_arr.dtype)"
   ]
  },
  {
   "cell_type": "code",
   "execution_count": null,
   "metadata": {},
   "outputs": [],
   "source": []
  }
 ],
 "metadata": {
  "kernelspec": {
   "display_name": "Python 3",
   "language": "python",
   "name": "python3"
  },
  "language_info": {
   "codemirror_mode": {
    "name": "ipython",
    "version": 3
   },
   "file_extension": ".py",
   "mimetype": "text/x-python",
   "name": "python",
   "nbconvert_exporter": "python",
   "pygments_lexer": "ipython3",
   "version": "3.6.5"
  }
 },
 "nbformat": 4,
 "nbformat_minor": 2
}
